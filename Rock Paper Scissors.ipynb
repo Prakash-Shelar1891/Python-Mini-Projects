{
 "cells": [
  {
   "cell_type": "markdown",
   "metadata": {},
   "source": [
    "# Rock Paper Scissors"
   ]
  },
  {
   "cell_type": "code",
   "execution_count": null,
   "metadata": {},
   "outputs": [],
   "source": [
    "import random\n",
    "player1 = input(\"Enter Your Choice :\").strip()\n",
    "\n",
    "list1 = ['Rock','Paper','Scissors']\n",
    "player2 = (random.choice(list1))\n",
    "\n",
    "\n",
    "if player1 in list1:\n",
    "    print(\"Player 1 says: \"+player1)\n",
    "    print(\"Player 2 says: \"+player2)\n",
    "\n",
    "    #For same\n",
    "    if len(player1) == len(player2):\n",
    "        print(\"Draw\")\n",
    "        \n",
    "    #for rock\n",
    "    elif len(player1) == 4:\n",
    "        if len(player2) == 5:           #Paper\n",
    "            print(\"Player 2 Won!!!\")\n",
    "        else:                           #Scissors\n",
    "            print(\"Player 1 Won!!!\")\n",
    "    \n",
    "    #for Paper       \n",
    "    elif len(player1) == 5:\n",
    "        if len(player2) == 8:           #Scissors\n",
    "            print(\"Player 2 Won!!\")\n",
    "        else:                           #Rock\n",
    "            print(\"Player 1 Won!!\")\n",
    "\n",
    "    #for Scissors\n",
    "    elif len(player1) == 8:\n",
    "        if len(player2) == 4:           #Rock\n",
    "            print(\"Player 2 Won!\")\n",
    "        else:                           #Paper\n",
    "            print(\"Player 1 won!\")\n",
    "\n",
    "\n",
    "else:\n",
    "    print(\"Please Enter Correct input!\\nInput must be Rock or Paper or Scissors\")\n",
    "    "
   ]
  },
  {
   "cell_type": "code",
   "execution_count": null,
   "metadata": {},
   "outputs": [],
   "source": []
  },
  {
   "cell_type": "code",
   "execution_count": null,
   "metadata": {},
   "outputs": [],
   "source": []
  }
 ],
 "metadata": {
  "kernelspec": {
   "display_name": "Python 3",
   "language": "python",
   "name": "python3"
  },
  "language_info": {
   "codemirror_mode": {
    "name": "ipython",
    "version": 3
   },
   "file_extension": ".py",
   "mimetype": "text/x-python",
   "name": "python",
   "nbconvert_exporter": "python",
   "pygments_lexer": "ipython3",
   "version": "3.7.4"
  }
 },
 "nbformat": 4,
 "nbformat_minor": 2
}
